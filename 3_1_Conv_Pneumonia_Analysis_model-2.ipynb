{
  "nbformat": 4,
  "nbformat_minor": 0,
  "metadata": {
    "colab": {
      "name": "3:1 Conv_Pneumonia_Analysis.ipynb",
      "provenance": [],
      "mount_file_id": "1y0wm_OFGy7J19Iz4oR4JyXTKXuZClqaw",
      "authorship_tag": "ABX9TyMkTNULnvA8buYkbEJwTuGt"
    },
    "kernelspec": {
      "name": "python3",
      "display_name": "Python 3"
    },
    "accelerator": "GPU"
  },
  "cells": [
    {
      "cell_type": "code",
      "metadata": {
        "id": "fmvhiXnwSspa",
        "outputId": "9bc83b8b-9474-425c-a889-56f86a602c0b",
        "colab": {
          "base_uri": "https://localhost:8080/",
          "height": 127
        }
      },
      "source": [
        "pip install keras"
      ],
      "execution_count": 12,
      "outputs": [
        {
          "output_type": "stream",
          "text": [
            "Requirement already satisfied: keras in /usr/local/lib/python3.6/dist-packages (2.4.3)\n",
            "Requirement already satisfied: h5py in /usr/local/lib/python3.6/dist-packages (from keras) (2.10.0)\n",
            "Requirement already satisfied: scipy>=0.14 in /usr/local/lib/python3.6/dist-packages (from keras) (1.4.1)\n",
            "Requirement already satisfied: numpy>=1.9.1 in /usr/local/lib/python3.6/dist-packages (from keras) (1.18.5)\n",
            "Requirement already satisfied: pyyaml in /usr/local/lib/python3.6/dist-packages (from keras) (3.13)\n",
            "Requirement already satisfied: six in /usr/local/lib/python3.6/dist-packages (from h5py->keras) (1.15.0)\n"
          ],
          "name": "stdout"
        }
      ]
    },
    {
      "cell_type": "code",
      "metadata": {
        "id": "HrgybStLSsVQ",
        "outputId": "52a6c71e-ea3d-4793-8b4f-a92fc5b7e74a",
        "colab": {
          "base_uri": "https://localhost:8080/",
          "height": 717
        }
      },
      "source": [
        "pip install tensorflow"
      ],
      "execution_count": 13,
      "outputs": [
        {
          "output_type": "stream",
          "text": [
            "Requirement already satisfied: tensorflow in /usr/local/lib/python3.6/dist-packages (2.3.0)\n",
            "Requirement already satisfied: opt-einsum>=2.3.2 in /usr/local/lib/python3.6/dist-packages (from tensorflow) (3.3.0)\n",
            "Requirement already satisfied: wrapt>=1.11.1 in /usr/local/lib/python3.6/dist-packages (from tensorflow) (1.12.1)\n",
            "Requirement already satisfied: keras-preprocessing<1.2,>=1.1.1 in /usr/local/lib/python3.6/dist-packages (from tensorflow) (1.1.2)\n",
            "Requirement already satisfied: astunparse==1.6.3 in /usr/local/lib/python3.6/dist-packages (from tensorflow) (1.6.3)\n",
            "Requirement already satisfied: google-pasta>=0.1.8 in /usr/local/lib/python3.6/dist-packages (from tensorflow) (0.2.0)\n",
            "Requirement already satisfied: six>=1.12.0 in /usr/local/lib/python3.6/dist-packages (from tensorflow) (1.15.0)\n",
            "Requirement already satisfied: grpcio>=1.8.6 in /usr/local/lib/python3.6/dist-packages (from tensorflow) (1.32.0)\n",
            "Requirement already satisfied: tensorboard<3,>=2.3.0 in /usr/local/lib/python3.6/dist-packages (from tensorflow) (2.3.0)\n",
            "Requirement already satisfied: numpy<1.19.0,>=1.16.0 in /usr/local/lib/python3.6/dist-packages (from tensorflow) (1.18.5)\n",
            "Requirement already satisfied: tensorflow-estimator<2.4.0,>=2.3.0 in /usr/local/lib/python3.6/dist-packages (from tensorflow) (2.3.0)\n",
            "Requirement already satisfied: protobuf>=3.9.2 in /usr/local/lib/python3.6/dist-packages (from tensorflow) (3.12.4)\n",
            "Requirement already satisfied: wheel>=0.26 in /usr/local/lib/python3.6/dist-packages (from tensorflow) (0.35.1)\n",
            "Requirement already satisfied: absl-py>=0.7.0 in /usr/local/lib/python3.6/dist-packages (from tensorflow) (0.10.0)\n",
            "Requirement already satisfied: h5py<2.11.0,>=2.10.0 in /usr/local/lib/python3.6/dist-packages (from tensorflow) (2.10.0)\n",
            "Requirement already satisfied: scipy==1.4.1 in /usr/local/lib/python3.6/dist-packages (from tensorflow) (1.4.1)\n",
            "Requirement already satisfied: termcolor>=1.1.0 in /usr/local/lib/python3.6/dist-packages (from tensorflow) (1.1.0)\n",
            "Requirement already satisfied: gast==0.3.3 in /usr/local/lib/python3.6/dist-packages (from tensorflow) (0.3.3)\n",
            "Requirement already satisfied: google-auth<2,>=1.6.3 in /usr/local/lib/python3.6/dist-packages (from tensorboard<3,>=2.3.0->tensorflow) (1.17.2)\n",
            "Requirement already satisfied: markdown>=2.6.8 in /usr/local/lib/python3.6/dist-packages (from tensorboard<3,>=2.3.0->tensorflow) (3.2.2)\n",
            "Requirement already satisfied: google-auth-oauthlib<0.5,>=0.4.1 in /usr/local/lib/python3.6/dist-packages (from tensorboard<3,>=2.3.0->tensorflow) (0.4.1)\n",
            "Requirement already satisfied: requests<3,>=2.21.0 in /usr/local/lib/python3.6/dist-packages (from tensorboard<3,>=2.3.0->tensorflow) (2.23.0)\n",
            "Requirement already satisfied: tensorboard-plugin-wit>=1.6.0 in /usr/local/lib/python3.6/dist-packages (from tensorboard<3,>=2.3.0->tensorflow) (1.7.0)\n",
            "Requirement already satisfied: setuptools>=41.0.0 in /usr/local/lib/python3.6/dist-packages (from tensorboard<3,>=2.3.0->tensorflow) (50.3.0)\n",
            "Requirement already satisfied: werkzeug>=0.11.15 in /usr/local/lib/python3.6/dist-packages (from tensorboard<3,>=2.3.0->tensorflow) (1.0.1)\n",
            "Requirement already satisfied: pyasn1-modules>=0.2.1 in /usr/local/lib/python3.6/dist-packages (from google-auth<2,>=1.6.3->tensorboard<3,>=2.3.0->tensorflow) (0.2.8)\n",
            "Requirement already satisfied: cachetools<5.0,>=2.0.0 in /usr/local/lib/python3.6/dist-packages (from google-auth<2,>=1.6.3->tensorboard<3,>=2.3.0->tensorflow) (4.1.1)\n",
            "Requirement already satisfied: rsa<5,>=3.1.4; python_version >= \"3\" in /usr/local/lib/python3.6/dist-packages (from google-auth<2,>=1.6.3->tensorboard<3,>=2.3.0->tensorflow) (4.6)\n",
            "Requirement already satisfied: importlib-metadata; python_version < \"3.8\" in /usr/local/lib/python3.6/dist-packages (from markdown>=2.6.8->tensorboard<3,>=2.3.0->tensorflow) (2.0.0)\n",
            "Requirement already satisfied: requests-oauthlib>=0.7.0 in /usr/local/lib/python3.6/dist-packages (from google-auth-oauthlib<0.5,>=0.4.1->tensorboard<3,>=2.3.0->tensorflow) (1.3.0)\n",
            "Requirement already satisfied: urllib3!=1.25.0,!=1.25.1,<1.26,>=1.21.1 in /usr/local/lib/python3.6/dist-packages (from requests<3,>=2.21.0->tensorboard<3,>=2.3.0->tensorflow) (1.24.3)\n",
            "Requirement already satisfied: certifi>=2017.4.17 in /usr/local/lib/python3.6/dist-packages (from requests<3,>=2.21.0->tensorboard<3,>=2.3.0->tensorflow) (2020.6.20)\n",
            "Requirement already satisfied: idna<3,>=2.5 in /usr/local/lib/python3.6/dist-packages (from requests<3,>=2.21.0->tensorboard<3,>=2.3.0->tensorflow) (2.10)\n",
            "Requirement already satisfied: chardet<4,>=3.0.2 in /usr/local/lib/python3.6/dist-packages (from requests<3,>=2.21.0->tensorboard<3,>=2.3.0->tensorflow) (3.0.4)\n",
            "Requirement already satisfied: pyasn1<0.5.0,>=0.4.6 in /usr/local/lib/python3.6/dist-packages (from pyasn1-modules>=0.2.1->google-auth<2,>=1.6.3->tensorboard<3,>=2.3.0->tensorflow) (0.4.8)\n",
            "Requirement already satisfied: zipp>=0.5 in /usr/local/lib/python3.6/dist-packages (from importlib-metadata; python_version < \"3.8\"->markdown>=2.6.8->tensorboard<3,>=2.3.0->tensorflow) (3.2.0)\n",
            "Requirement already satisfied: oauthlib>=3.0.0 in /usr/local/lib/python3.6/dist-packages (from requests-oauthlib>=0.7.0->google-auth-oauthlib<0.5,>=0.4.1->tensorboard<3,>=2.3.0->tensorflow) (3.1.0)\n"
          ],
          "name": "stdout"
        }
      ]
    },
    {
      "cell_type": "code",
      "metadata": {
        "id": "Uex5AWlsSl1s",
        "outputId": "4af59f4f-56fc-46e2-acb5-3269cf486d05",
        "colab": {
          "base_uri": "https://localhost:8080/",
          "height": 1000
        }
      },
      "source": [
        "# Importing the Keras libraries and packages\n",
        "from keras.models import Sequential\n",
        "from keras.layers import Conv2D\n",
        "from keras.layers import MaxPooling2D\n",
        "from keras.layers import Flatten\n",
        "from keras.layers import Dense\n",
        "from keras.layers.core import Flatten, Dense, Dropout\n",
        "from keras.layers.convolutional import Convolution2D, MaxPooling2D, ZeroPadding2D\n",
        "from keras import optimizers\n",
        "from keras.optimizers import SGD\n",
        "import matplotlib.pyplot as plt\n",
        "\n",
        "\n",
        "# Initialising the CNN\n",
        "model_3_hidden= Sequential()\n",
        "\n",
        "# Step 1 - Convolution\n",
        "model_3_hidden.add(Conv2D(32, (3, 3), input_shape = (64, 64, 3), activation = 'relu'))\n",
        "model_3_hidden.add(MaxPooling2D(pool_size = (2, 2)))\n",
        "model_3_hidden.add(Dropout(0.2))\n",
        "\n",
        "# Adding Second convolutional layer\n",
        "model_3_hidden.add(Conv2D(32, (3, 3), activation = 'relu'))\n",
        "model_3_hidden.add(MaxPooling2D(pool_size = (2, 2)))\n",
        "model_3_hidden.add(Dropout(0.2))\n",
        "\n",
        "# Adding Third convolutional layer\n",
        "model_3_hidden.add(Conv2D(32, (3, 3), activation = 'relu'))\n",
        "model_3_hidden.add(MaxPooling2D(pool_size = (2, 2)))\n",
        "model_3_hidden.add(Dropout(0.2))\n",
        "\n",
        "# Step 3 - Flattening\n",
        "model_3_hidden.add(Flatten())\n",
        "\n",
        "# Step 4 - Full connection\n",
        "model_3_hidden.add(Dense(units = 128, activation = 'relu'))\n",
        "model_3_hidden.add(Dense(units = 1, activation = 'sigmoid'))\n",
        "\n",
        "# Compiling the CNN\n",
        "optim=optimizers.RMSprop(lr=0.001, rho=0.9, epsilon=None, decay=0.0)\n",
        "model_3_hidden.compile(optimizer = optim, loss = 'binary_crossentropy', metrics = ['accuracy'])\n",
        "\n",
        "#summary\n",
        "model_3_hidden.summary()\n",
        "# Part 2 - Fitting the CNN to the images\n",
        "\n",
        "from keras.preprocessing.image import ImageDataGenerator\n",
        "\n",
        "train_datagen = ImageDataGenerator(rescale = 1./255,\n",
        "                                   shear_range = 0.2,\n",
        "                                   zoom_range = 0.2,\n",
        "                                   horizontal_flip = True)\n",
        "\n",
        "test_datagen = ImageDataGenerator(rescale = 1./255)\n",
        "\n",
        "training_set = train_datagen.flow_from_directory('/content/drive/My Drive/Pneumonia detection/chest_xray/chest_xray/train',\n",
        "                                                 target_size = (64, 64),\n",
        "                                                 batch_size = 32,\n",
        "                                                 class_mode = 'binary')\n",
        "\n",
        "test_set = test_datagen.flow_from_directory('/content/drive/My Drive/Pneumonia detection/chest_xray/chest_xray/test',\n",
        "                                            target_size = (64, 64),\n",
        "                                            batch_size = 32,\n",
        "                                            class_mode = 'binary')\n",
        "\n",
        "history=model_3_hidden.fit_generator(training_set,\n",
        "                         steps_per_epoch = len(training_set),\n",
        "                         epochs = 25,\n",
        "                         validation_data = test_set,\n",
        "                         validation_steps = len(test_set))\n",
        "\n",
        "\n"
      ],
      "execution_count": 22,
      "outputs": [
        {
          "output_type": "stream",
          "text": [
            "Model: \"sequential_15\"\n",
            "_________________________________________________________________\n",
            "Layer (type)                 Output Shape              Param #   \n",
            "=================================================================\n",
            "conv2d_45 (Conv2D)           (None, 62, 62, 32)        896       \n",
            "_________________________________________________________________\n",
            "max_pooling2d_45 (MaxPooling (None, 31, 31, 32)        0         \n",
            "_________________________________________________________________\n",
            "dropout_45 (Dropout)         (None, 31, 31, 32)        0         \n",
            "_________________________________________________________________\n",
            "conv2d_46 (Conv2D)           (None, 29, 29, 32)        9248      \n",
            "_________________________________________________________________\n",
            "max_pooling2d_46 (MaxPooling (None, 14, 14, 32)        0         \n",
            "_________________________________________________________________\n",
            "dropout_46 (Dropout)         (None, 14, 14, 32)        0         \n",
            "_________________________________________________________________\n",
            "conv2d_47 (Conv2D)           (None, 12, 12, 32)        9248      \n",
            "_________________________________________________________________\n",
            "max_pooling2d_47 (MaxPooling (None, 6, 6, 32)          0         \n",
            "_________________________________________________________________\n",
            "dropout_47 (Dropout)         (None, 6, 6, 32)          0         \n",
            "_________________________________________________________________\n",
            "flatten_15 (Flatten)         (None, 1152)              0         \n",
            "_________________________________________________________________\n",
            "dense_30 (Dense)             (None, 128)               147584    \n",
            "_________________________________________________________________\n",
            "dense_31 (Dense)             (None, 1)                 129       \n",
            "=================================================================\n",
            "Total params: 167,105\n",
            "Trainable params: 167,105\n",
            "Non-trainable params: 0\n",
            "_________________________________________________________________\n",
            "Found 5216 images belonging to 2 classes.\n",
            "Found 624 images belonging to 2 classes.\n",
            "Epoch 1/25\n",
            "163/163 [==============================] - 97s 593ms/step - loss: 0.4934 - accuracy: 0.7797 - val_loss: 0.4736 - val_accuracy: 0.8189\n",
            "Epoch 2/25\n",
            "163/163 [==============================] - 96s 587ms/step - loss: 0.3334 - accuracy: 0.8558 - val_loss: 0.3824 - val_accuracy: 0.8558\n",
            "Epoch 3/25\n",
            "163/163 [==============================] - 96s 589ms/step - loss: 0.2717 - accuracy: 0.8867 - val_loss: 0.3556 - val_accuracy: 0.8301\n",
            "Epoch 4/25\n",
            "163/163 [==============================] - 96s 587ms/step - loss: 0.2542 - accuracy: 0.8917 - val_loss: 0.3186 - val_accuracy: 0.8590\n",
            "Epoch 5/25\n",
            "163/163 [==============================] - 96s 588ms/step - loss: 0.2259 - accuracy: 0.9038 - val_loss: 0.3365 - val_accuracy: 0.8782\n",
            "Epoch 6/25\n",
            "163/163 [==============================] - 96s 586ms/step - loss: 0.2152 - accuracy: 0.9149 - val_loss: 0.3036 - val_accuracy: 0.8926\n",
            "Epoch 7/25\n",
            "163/163 [==============================] - 99s 606ms/step - loss: 0.1942 - accuracy: 0.9197 - val_loss: 0.5071 - val_accuracy: 0.7837\n",
            "Epoch 8/25\n",
            "163/163 [==============================] - 96s 586ms/step - loss: 0.1851 - accuracy: 0.9256 - val_loss: 0.2444 - val_accuracy: 0.8974\n",
            "Epoch 9/25\n",
            "163/163 [==============================] - 96s 587ms/step - loss: 0.1791 - accuracy: 0.9306 - val_loss: 0.3219 - val_accuracy: 0.8686\n",
            "Epoch 10/25\n",
            "163/163 [==============================] - 95s 584ms/step - loss: 0.1763 - accuracy: 0.9300 - val_loss: 0.2416 - val_accuracy: 0.9263\n",
            "Epoch 11/25\n",
            "163/163 [==============================] - 97s 595ms/step - loss: 0.1744 - accuracy: 0.9329 - val_loss: 0.2164 - val_accuracy: 0.9135\n",
            "Epoch 12/25\n",
            "163/163 [==============================] - 96s 586ms/step - loss: 0.1704 - accuracy: 0.9350 - val_loss: 0.2302 - val_accuracy: 0.9215\n",
            "Epoch 13/25\n",
            "163/163 [==============================] - 98s 599ms/step - loss: 0.1690 - accuracy: 0.9385 - val_loss: 0.2672 - val_accuracy: 0.8974\n",
            "Epoch 14/25\n",
            "163/163 [==============================] - 96s 587ms/step - loss: 0.1635 - accuracy: 0.9346 - val_loss: 0.3587 - val_accuracy: 0.9006\n",
            "Epoch 15/25\n",
            "163/163 [==============================] - 96s 587ms/step - loss: 0.1566 - accuracy: 0.9406 - val_loss: 0.2690 - val_accuracy: 0.9054\n",
            "Epoch 16/25\n",
            "163/163 [==============================] - 95s 582ms/step - loss: 0.1532 - accuracy: 0.9436 - val_loss: 0.2263 - val_accuracy: 0.9231\n",
            "Epoch 17/25\n",
            "163/163 [==============================] - 96s 591ms/step - loss: 0.1587 - accuracy: 0.9400 - val_loss: 0.2244 - val_accuracy: 0.9295\n",
            "Epoch 18/25\n",
            "163/163 [==============================] - 97s 592ms/step - loss: 0.1534 - accuracy: 0.9406 - val_loss: 0.2896 - val_accuracy: 0.8910\n",
            "Epoch 19/25\n",
            "163/163 [==============================] - 99s 605ms/step - loss: 0.1539 - accuracy: 0.9457 - val_loss: 0.2426 - val_accuracy: 0.9151\n",
            "Epoch 20/25\n",
            "163/163 [==============================] - 97s 596ms/step - loss: 0.1539 - accuracy: 0.9394 - val_loss: 0.2910 - val_accuracy: 0.8974\n",
            "Epoch 21/25\n",
            "163/163 [==============================] - 97s 593ms/step - loss: 0.1357 - accuracy: 0.9486 - val_loss: 0.2444 - val_accuracy: 0.9263\n",
            "Epoch 22/25\n",
            "163/163 [==============================] - 96s 587ms/step - loss: 0.1492 - accuracy: 0.9448 - val_loss: 0.2627 - val_accuracy: 0.9022\n",
            "Epoch 23/25\n",
            "163/163 [==============================] - 95s 585ms/step - loss: 0.1413 - accuracy: 0.9467 - val_loss: 0.3495 - val_accuracy: 0.8686\n",
            "Epoch 24/25\n",
            "163/163 [==============================] - 96s 586ms/step - loss: 0.1456 - accuracy: 0.9465 - val_loss: 0.2430 - val_accuracy: 0.9167\n",
            "Epoch 25/25\n",
            "163/163 [==============================] - 95s 585ms/step - loss: 0.1400 - accuracy: 0.9461 - val_loss: 0.2640 - val_accuracy: 0.9103\n"
          ],
          "name": "stdout"
        }
      ]
    },
    {
      "cell_type": "code",
      "metadata": {
        "id": "nl5jMu3ktCab",
        "outputId": "8432d20f-5205-4f7d-9e2c-8955b5a183fa",
        "colab": {
          "base_uri": "https://localhost:8080/",
          "height": 572
        }
      },
      "source": [
        "# plotting training set and validation test \n",
        "plt.plot(history.history['loss'])\n",
        "plt.plot(history.history['val_loss'])\n",
        "plt.title('model loss')\n",
        "plt.ylabel('loss')\n",
        "plt.xlabel('epoch')\n",
        "plt.legend(['train', 'test'], loc='left')\n",
        "plt.show()"
      ],
      "execution_count": 23,
      "outputs": [
        {
          "output_type": "stream",
          "text": [
            "/usr/local/lib/python3.6/dist-packages/ipykernel_launcher.py:7: MatplotlibDeprecationWarning: Unrecognized location 'left'. Falling back on 'best'; valid locations are\n",
            "\tbest\n",
            "\tupper right\n",
            "\tupper left\n",
            "\tlower left\n",
            "\tlower right\n",
            "\tright\n",
            "\tcenter left\n",
            "\tcenter right\n",
            "\tlower center\n",
            "\tupper center\n",
            "\tcenter\n",
            "This will raise an exception in 3.3.\n",
            "  import sys\n"
          ],
          "name": "stderr"
        },
        {
          "output_type": "display_data",
          "data": {
            "image/png": "[encoded data removed]",
            "text/plain": [
              "<Figure size 432x288 with 1 Axes>"
            ]
          },
          "metadata": {
            "tags": [],
            "needs_background": "light"
          }
        }
      ]
    },
    {
      "cell_type": "markdown",
      "metadata": {
        "id": "rLF5kko39y94"
      },
      "source": [
        "**CONCLUSION**"
      ]
    },
    {
      "cell_type": "markdown",
      "metadata": {
        "id": "Rkv1iuOD--z_"
      },
      "source": [
        "![image.png](data:image/png;base64,iVBORw0KGgoAAAANSUhEUgAAAZQAAAApCAYAAAAS5t+/AAAE6UlEQVR4nO2dW67kKgxFa/6jO39nBD2O9Fe1EA1mm1dIvJaEdIo32PGG9K26n5/fPxeJRCKRSKPp8/P75wJYCT4WF2wfBwQFtoCPxQXbxwFBgS3gY3HB9nFAUGAL+FhcsH0cEBTYAj4WF2wfBwQFtoCPxQXbx6EpKJ/Pp5qfJ6We0m/t71pS56O2y8uVeVpjq3v1ZlIfa+25F2+7O/Y/os2/rLR92q+St5O7x78DU1CsoKrkWXW8guIdu6eNp9/WPJV1RKLlY2+m5fNvZ4ftT9vbqDZfJig9AV7twysoqlERlHV4gkp+e0zzazdAq/1o/bzMe6JWDlGtm21t7nmed+/UcUZ82CsorX0uvUXwrGGVnWtjtdbYyn+SzauCoj6EtTwEBUFJ8QqKx/9qD+XK+ire56gWiKwAVQoi6pje8XvoOUzU8kZiwko7t8ZVPr/B5kOCYim5Iii11OpDOVl45tLqt1VX2QvrtBCB0aBi1Rk97Myor8zT01dv4Bzdu1K9UZ89SVA8fe8SlJ78U21eFBQ1iFptFEHxjmHlK5vUYkRQrDZRRSRlhqCoB49TBGW2j9fy1f48h7a0bLegqAc0pS9PnRnPbXSbVwWlZVgEBUHxMPOUmn9eLSjfz6VAZtHzHPXkt/rz7F2p3m5BURlZt1XHa+da+4g2/09QVCEYNeBOQVHbqOONBrCIzH7tsVNQZp5U8/LaXDz5nuAy+2Co8BRBGV0rNl8sKN+8XpX2CkptrNZcWuPlbdX5eOb2dma+8srrrBaUdGzVfp4DTq1fNV99ZloBajTA1xj9r7yUvUrLav2vsLOynlL5W23ON+VhC0/2sVWB9gmsFJTTiGznFAQFjufJPhY10Mxa41NsH9XOKaPrRVBgC0/3sdKrkNKrmTe90owmKNelvRbH5nUQFNgCPhYXbB+Hf4JCIpFIJNJo4oYCy8HH4oLt44CgwBbwsbhg+zggKLAFfCwu2D4OCApsAR+LC7aPA4ICW8DH4oLt44CgXM/68tKT5poS3cfehPcnO7D9c+mxdfX/h+L53SI10J34ZSDPPO7+Nq011in7WYKgcibKs6j+hhSCcjbqFzbTvNLfpc9fioKiNk7LVOFR8nYzKig7QVBgFp4fT2wJiuV72P5+LFvXynpt3Xzlpf6ypdqHVcf6tc28jtV/a85KeUmxW0o+Yy2edXrKvPvmXYcFQeU8ZgkKtj+f0UuCx9ZHCIoS9HtUVu3bmounL3W8mWtpla3cN/VWRFA5j16/Vw5UKdj+fnoPpj22Hv43FGWgGYLSalNT0Z6+Z8xjpI+eufbaatW+pRBUzkS5geZ/W3VK9bD9GVi2TutY7fO+ctw3lN46TxOU2ubvEhTP+GpZK3C05uA9raQQVM7Hc2vP86222P48RgSlZWsEpfPqr7b39tFzUrTK1PWpQUQtTyGonE/pBNpzg0FQzmfWWxJJUEavvsqk8rwZgqLmtU7a1tVut6DMuKFY/alz8oxXgqByNl5be2IEtj+LETHJP8s3FOVUkterBSurvqes1JeSV1qPEuCtk7vavnctnrnWxqwJSe++ecQth6ByHuoz+61rfU77y8H292PZ2nMTzdvk8E15uK7LJw494GNxwfZxQFBguZhcF0ElMtg+DggKICiwFGwfBwQFtoCPxQXbx+GfoJBIJBKJNJr+AuJZCNE459bmAAAAAElFTkSuQmCC)"
      ]
    }
  ]
}